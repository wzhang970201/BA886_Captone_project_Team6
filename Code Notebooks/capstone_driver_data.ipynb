{
  "nbformat": 4,
  "nbformat_minor": 0,
  "metadata": {
    "colab": {
      "name": "capstone_driver_data.ipynb",
      "provenance": [],
      "collapsed_sections": [],
      "toc_visible": true
    },
    "kernelspec": {
      "display_name": "Python 3",
      "name": "python3"
    }
  },
  "cells": [
    {
      "cell_type": "code",
      "metadata": {
        "id": "KX0VC6Kg2kH3"
      },
      "source": [
        "import pandas as pd\n",
        "import numpy as np\n",
        "import seaborn as sns\n",
        "import matplotlib.pyplot as plt\n"
      ],
      "execution_count": null,
      "outputs": []
    },
    {
      "cell_type": "code",
      "metadata": {
        "id": "vP3MMEJg2wbq"
      },
      "source": [
        "dd = pd.read_csv(\"team6_driver.csv\")"
      ],
      "execution_count": null,
      "outputs": []
    },
    {
      "cell_type": "markdown",
      "metadata": {
        "id": "NES0Z7TgIQwx"
      },
      "source": [
        "#Data Basic Info\n"
      ]
    },
    {
      "cell_type": "markdown",
      "metadata": {
        "id": "kKUjVVfyIXWX"
      },
      "source": [
        "Data driver contains 584590 rows and 6 columns. The columns are:\n",
        "- Customer ID\n",
        "- State\n",
        "- Year\n",
        "- Zip code 1\n",
        "- Zip code 2\n",
        "- Target (Hit or No-Hit)"
      ]
    },
    {
      "cell_type": "code",
      "metadata": {
        "colab": {
          "base_uri": "https://localhost:8080/"
        },
        "id": "i72wT6EY2wd_",
        "outputId": "adfd1356-b18a-4c96-8a63-b72c3e7b28b4"
      },
      "source": [
        "dd.shape"
      ],
      "execution_count": null,
      "outputs": [
        {
          "output_type": "execute_result",
          "data": {
            "text/plain": [
              "(584590, 6)"
            ]
          },
          "metadata": {
            "tags": []
          },
          "execution_count": 3
        }
      ]
    },
    {
      "cell_type": "code",
      "metadata": {
        "colab": {
          "base_uri": "https://localhost:8080/",
          "height": 138
        },
        "id": "UDss4dAP2wgI",
        "outputId": "5f986998-fba2-44bd-e0eb-748e15da4156"
      },
      "source": [
        "dd.head(3)"
      ],
      "execution_count": null,
      "outputs": [
        {
          "output_type": "execute_result",
          "data": {
            "text/html": [
              "<div>\n",
              "<style scoped>\n",
              "    .dataframe tbody tr th:only-of-type {\n",
              "        vertical-align: middle;\n",
              "    }\n",
              "\n",
              "    .dataframe tbody tr th {\n",
              "        vertical-align: top;\n",
              "    }\n",
              "\n",
              "    .dataframe thead th {\n",
              "        text-align: right;\n",
              "    }\n",
              "</style>\n",
              "<table border=\"1\" class=\"dataframe\">\n",
              "  <thead>\n",
              "    <tr style=\"text-align: right;\">\n",
              "      <th></th>\n",
              "      <th>qpid</th>\n",
              "      <th>state</th>\n",
              "      <th>year</th>\n",
              "      <th>zip5</th>\n",
              "      <th>zip4</th>\n",
              "      <th>target</th>\n",
              "    </tr>\n",
              "  </thead>\n",
              "  <tbody>\n",
              "    <tr>\n",
              "      <th>0</th>\n",
              "      <td>24739084</td>\n",
              "      <td>CT</td>\n",
              "      <td>2020</td>\n",
              "      <td>6801.0</td>\n",
              "      <td>2842.0</td>\n",
              "      <td>0</td>\n",
              "    </tr>\n",
              "    <tr>\n",
              "      <th>1</th>\n",
              "      <td>24739091</td>\n",
              "      <td>CT</td>\n",
              "      <td>2020</td>\n",
              "      <td>6801.0</td>\n",
              "      <td>2875.0</td>\n",
              "      <td>1</td>\n",
              "    </tr>\n",
              "    <tr>\n",
              "      <th>2</th>\n",
              "      <td>24739121</td>\n",
              "      <td>CT</td>\n",
              "      <td>2020</td>\n",
              "      <td>6801.0</td>\n",
              "      <td>1709.0</td>\n",
              "      <td>0</td>\n",
              "    </tr>\n",
              "  </tbody>\n",
              "</table>\n",
              "</div>"
            ],
            "text/plain": [
              "       qpid state  year    zip5    zip4  target\n",
              "0  24739084    CT  2020  6801.0  2842.0       0\n",
              "1  24739091    CT  2020  6801.0  2875.0       1\n",
              "2  24739121    CT  2020  6801.0  1709.0       0"
            ]
          },
          "metadata": {
            "tags": []
          },
          "execution_count": 4
        }
      ]
    },
    {
      "cell_type": "markdown",
      "metadata": {
        "id": "9eKIazbHIsGV"
      },
      "source": [
        "The data has no duplicate values."
      ]
    },
    {
      "cell_type": "code",
      "metadata": {
        "colab": {
          "base_uri": "https://localhost:8080/"
        },
        "id": "EkLL5vGEN1Ij",
        "outputId": "3ec44d88-046d-44eb-c94f-c660cf3fa761"
      },
      "source": [
        "duplicate = dd[dd['qpid'].duplicated()]\n",
        "duplicate.shape\n",
        "\n",
        "#No duplicate ID and rows in driver data"
      ],
      "execution_count": null,
      "outputs": [
        {
          "output_type": "execute_result",
          "data": {
            "text/plain": [
              "(0, 6)"
            ]
          },
          "metadata": {
            "tags": []
          },
          "execution_count": 5
        }
      ]
    },
    {
      "cell_type": "markdown",
      "metadata": {
        "id": "GWZ5B5udIxTf"
      },
      "source": [
        "##State info"
      ]
    },
    {
      "cell_type": "markdown",
      "metadata": {
        "id": "QPuscTHaI0I-"
      },
      "source": [
        "The data is collected from 6 states: ['CT', 'MA', 'NH', 'NY', 'NJ', 'PA']\n",
        "- NJ has most data collected with 261644 number of rows data.\n",
        "- NH has least data collected with 11264 number of rows data."
      ]
    },
    {
      "cell_type": "code",
      "metadata": {
        "colab": {
          "base_uri": "https://localhost:8080/"
        },
        "id": "hXKZpQd56Tj-",
        "outputId": "3055f028-918e-4980-ba5c-a52870eaf2d6"
      },
      "source": [
        "#Unique states\n",
        "\n",
        "unique_state = dd.state.unique()\n",
        "unique_state"
      ],
      "execution_count": null,
      "outputs": [
        {
          "output_type": "execute_result",
          "data": {
            "text/plain": [
              "array(['CT', 'MA', 'NH', 'NY', 'NJ', 'PA'], dtype=object)"
            ]
          },
          "metadata": {
            "tags": []
          },
          "execution_count": 6
        }
      ]
    },
    {
      "cell_type": "code",
      "metadata": {
        "colab": {
          "base_uri": "https://localhost:8080/"
        },
        "id": "f0HJ25hF6TmK",
        "outputId": "deeaa211-fc91-4cce-ef46-b50780df726d"
      },
      "source": [
        "\n",
        "dd.state.value_counts()"
      ],
      "execution_count": null,
      "outputs": [
        {
          "output_type": "execute_result",
          "data": {
            "text/plain": [
              "NJ    261644\n",
              "MA     98625\n",
              "PA     94392\n",
              "NY     77843\n",
              "CT     40822\n",
              "NH     11264\n",
              "Name: state, dtype: int64"
            ]
          },
          "metadata": {
            "tags": []
          },
          "execution_count": 7
        }
      ]
    },
    {
      "cell_type": "code",
      "metadata": {
        "colab": {
          "base_uri": "https://localhost:8080/"
        },
        "id": "RilyElGQ6ToN",
        "outputId": "1add9a6c-ae24-4e97-e7f4-1fd125f0bbe2"
      },
      "source": [
        "#Unique year\n",
        "unique_year = dd.year.unique()\n",
        "unique_year"
      ],
      "execution_count": null,
      "outputs": [
        {
          "output_type": "execute_result",
          "data": {
            "text/plain": [
              "array([2020, 2019])"
            ]
          },
          "metadata": {
            "tags": []
          },
          "execution_count": 8
        }
      ]
    },
    {
      "cell_type": "markdown",
      "metadata": {
        "id": "Pcj3ST0XJRTy"
      },
      "source": [
        "## Year info\n"
      ]
    },
    {
      "cell_type": "markdown",
      "metadata": {
        "id": "TeD0Vn0fJTew"
      },
      "source": [
        "The data is distributed into year 2020 and year 2019. Year 2020 has 416283 rows of data and year 2019 has 168307 rows of data. "
      ]
    },
    {
      "cell_type": "code",
      "metadata": {
        "colab": {
          "base_uri": "https://localhost:8080/"
        },
        "id": "zzt-P0_p6TqR",
        "outputId": "8cd73d19-1429-43ed-d08c-1d24d044981e"
      },
      "source": [
        "dd.year.value_counts()"
      ],
      "execution_count": null,
      "outputs": [
        {
          "output_type": "execute_result",
          "data": {
            "text/plain": [
              "2020    416283\n",
              "2019    168307\n",
              "Name: year, dtype: int64"
            ]
          },
          "metadata": {
            "tags": []
          },
          "execution_count": 9
        }
      ]
    },
    {
      "cell_type": "code",
      "metadata": {
        "id": "QH8zq8aM7udg"
      },
      "source": [
        "#distribution of target"
      ],
      "execution_count": null,
      "outputs": []
    },
    {
      "cell_type": "markdown",
      "metadata": {
        "id": "ju_v-ZGeJksi"
      },
      "source": [
        "## Target (Hit and No-Hit) info"
      ]
    },
    {
      "cell_type": "markdown",
      "metadata": {
        "id": "JByX6gOsJpKY"
      },
      "source": [
        "The majority of the target data is Hit by customer, which means get credit information back. \n",
        "\n",
        "The Hit(target = 0) has 522580 rows and No-hit (target = 1) has 62010 rows.  "
      ]
    },
    {
      "cell_type": "code",
      "metadata": {
        "colab": {
          "base_uri": "https://localhost:8080/"
        },
        "id": "4LEzX2UU7uhf",
        "outputId": "45dac183-0c43-494d-ad62-b5c85bd21020"
      },
      "source": [
        "dd.target.value_counts()"
      ],
      "execution_count": null,
      "outputs": [
        {
          "output_type": "execute_result",
          "data": {
            "text/plain": [
              "0    522580\n",
              "1     62010\n",
              "Name: target, dtype: int64"
            ]
          },
          "metadata": {
            "tags": []
          },
          "execution_count": 10
        }
      ]
    },
    {
      "cell_type": "code",
      "metadata": {
        "id": "F9Pb5j9H7ujz"
      },
      "source": [
        ""
      ],
      "execution_count": null,
      "outputs": []
    },
    {
      "cell_type": "markdown",
      "metadata": {
        "id": "q4ou_M3VKUJC"
      },
      "source": [
        "# Exploratary Data Analysis"
      ]
    },
    {
      "cell_type": "code",
      "metadata": {
        "id": "D35SIejf7umO"
      },
      "source": [
        "dd['year']= dd['year'].map(str)\n",
        "dd['year'] = dd['year'].astype('category').cat.as_ordered()\n"
      ],
      "execution_count": null,
      "outputs": []
    },
    {
      "cell_type": "code",
      "metadata": {
        "id": "XTCu-mQG2wiW"
      },
      "source": [
        "dd_sample = dd.copy()"
      ],
      "execution_count": null,
      "outputs": []
    },
    {
      "cell_type": "markdown",
      "metadata": {
        "id": "v8lMZyctMdsn"
      },
      "source": [
        "### Target rate by states"
      ]
    },
    {
      "cell_type": "markdown",
      "metadata": {
        "id": "6PmvsUljLCeo"
      },
      "source": [
        "By comparing the No-Hit rate (target rate) by each states, Connecticut state has highest target rate (0.1559) and New Jersey has second high target rate (0.1472). The reason that CT has highest rate is probably because CT has less amount of data collected, and the reason that NJ has such high target rate is probally because NJ has largest amount of data collected.\n",
        "\n",
        "On the other hand, NH has lowest target rate (0.0376), that might due to least amount of data collected from NJ. "
      ]
    },
    {
      "cell_type": "code",
      "metadata": {
        "colab": {
          "base_uri": "https://localhost:8080/",
          "height": 258
        },
        "id": "5rIVF0EAFPB_",
        "outputId": "3b74d47e-bce3-45a4-9b27-a6a0f6f7105a"
      },
      "source": [
        "pd.pivot_table(data=dd_sample, index='state', values='target', aggfunc=np.mean)"
      ],
      "execution_count": null,
      "outputs": [
        {
          "output_type": "execute_result",
          "data": {
            "text/html": [
              "<div>\n",
              "<style scoped>\n",
              "    .dataframe tbody tr th:only-of-type {\n",
              "        vertical-align: middle;\n",
              "    }\n",
              "\n",
              "    .dataframe tbody tr th {\n",
              "        vertical-align: top;\n",
              "    }\n",
              "\n",
              "    .dataframe thead th {\n",
              "        text-align: right;\n",
              "    }\n",
              "</style>\n",
              "<table border=\"1\" class=\"dataframe\">\n",
              "  <thead>\n",
              "    <tr style=\"text-align: right;\">\n",
              "      <th></th>\n",
              "      <th>target</th>\n",
              "    </tr>\n",
              "    <tr>\n",
              "      <th>state</th>\n",
              "      <th></th>\n",
              "    </tr>\n",
              "  </thead>\n",
              "  <tbody>\n",
              "    <tr>\n",
              "      <th>CT</th>\n",
              "      <td>0.155872</td>\n",
              "    </tr>\n",
              "    <tr>\n",
              "      <th>MA</th>\n",
              "      <td>0.082910</td>\n",
              "    </tr>\n",
              "    <tr>\n",
              "      <th>NH</th>\n",
              "      <td>0.037553</td>\n",
              "    </tr>\n",
              "    <tr>\n",
              "      <th>NJ</th>\n",
              "      <td>0.147219</td>\n",
              "    </tr>\n",
              "    <tr>\n",
              "      <th>NY</th>\n",
              "      <td>0.042149</td>\n",
              "    </tr>\n",
              "    <tr>\n",
              "      <th>PA</th>\n",
              "      <td>0.055587</td>\n",
              "    </tr>\n",
              "  </tbody>\n",
              "</table>\n",
              "</div>"
            ],
            "text/plain": [
              "         target\n",
              "state          \n",
              "CT     0.155872\n",
              "MA     0.082910\n",
              "NH     0.037553\n",
              "NJ     0.147219\n",
              "NY     0.042149\n",
              "PA     0.055587"
            ]
          },
          "metadata": {
            "tags": []
          },
          "execution_count": 13
        }
      ]
    },
    {
      "cell_type": "code",
      "metadata": {
        "colab": {
          "base_uri": "https://localhost:8080/",
          "height": 405
        },
        "id": "82YGht4D2wlu",
        "outputId": "e32658bb-e7dd-4acd-9952-86a6ade08797"
      },
      "source": [
        "plt.figure(figsize=(15, 8))\n",
        "sns.displot(x = \"state\", stat=\"density\", hue = \"target\", data = dd_sample)\n",
        "plt.xlabel('State', fontsize=12)\n",
        "plt.ylabel('Percentage of total', fontsize=12)\n",
        "plt.title('Distribution of Target in different states', fontsize=15)\n",
        "plt.show()"
      ],
      "execution_count": null,
      "outputs": [
        {
          "output_type": "display_data",
          "data": {
            "text/plain": [
              "<Figure size 1080x576 with 0 Axes>"
            ]
          },
          "metadata": {
            "tags": []
          }
        },
        {
          "output_type": "display_data",
          "data": {
            "image/png": "[encoded data removed]",
            "text/plain": [
              "<Figure size 402.375x360 with 1 Axes>"
            ]
          },
          "metadata": {
            "tags": [],
            "needs_background": "light"
          }
        }
      ]
    },
    {
      "cell_type": "markdown",
      "metadata": {
        "id": "XM8hBaF0Mg9S"
      },
      "source": [
        "### Target rate by Years"
      ]
    },
    {
      "cell_type": "markdown",
      "metadata": {
        "id": "46OfC3U4RSuw"
      },
      "source": [
        "By comparing the target rate by years, the records more than doubled in 2020, while the No-hit rate did not change from year to year."
      ]
    },
    {
      "cell_type": "code",
      "metadata": {
        "colab": {
          "base_uri": "https://localhost:8080/",
          "height": 138
        },
        "id": "FevEkkZvJTyi",
        "outputId": "672f1ad4-edab-4558-f643-2442181d1398"
      },
      "source": [
        "pd.pivot_table(data=dd_sample, index='year', values='target', aggfunc=np.mean)"
      ],
      "execution_count": null,
      "outputs": [
        {
          "output_type": "execute_result",
          "data": {
            "text/html": [
              "<div>\n",
              "<style scoped>\n",
              "    .dataframe tbody tr th:only-of-type {\n",
              "        vertical-align: middle;\n",
              "    }\n",
              "\n",
              "    .dataframe tbody tr th {\n",
              "        vertical-align: top;\n",
              "    }\n",
              "\n",
              "    .dataframe thead th {\n",
              "        text-align: right;\n",
              "    }\n",
              "</style>\n",
              "<table border=\"1\" class=\"dataframe\">\n",
              "  <thead>\n",
              "    <tr style=\"text-align: right;\">\n",
              "      <th></th>\n",
              "      <th>target</th>\n",
              "    </tr>\n",
              "    <tr>\n",
              "      <th>year</th>\n",
              "      <th></th>\n",
              "    </tr>\n",
              "  </thead>\n",
              "  <tbody>\n",
              "    <tr>\n",
              "      <th>2019</th>\n",
              "      <td>0.105925</td>\n",
              "    </tr>\n",
              "    <tr>\n",
              "      <th>2020</th>\n",
              "      <td>0.106135</td>\n",
              "    </tr>\n",
              "  </tbody>\n",
              "</table>\n",
              "</div>"
            ],
            "text/plain": [
              "        target\n",
              "year          \n",
              "2019  0.105925\n",
              "2020  0.106135"
            ]
          },
          "metadata": {
            "tags": []
          },
          "execution_count": 15
        }
      ]
    },
    {
      "cell_type": "code",
      "metadata": {
        "colab": {
          "base_uri": "https://localhost:8080/",
          "height": 407
        },
        "id": "9i88XqTR2wt6",
        "outputId": "9e9b9a7e-0cbf-4ec6-d8b7-d45895d0c4bf"
      },
      "source": [
        "plt.figure(figsize=(15, 8))\n",
        "sns.displot(x = \"year\",stat=\"density\", hue = \"target\", data = dd_sample)\n",
        "plt.xlabel('Year', fontsize=12)\n",
        "plt.ylabel('Percentage of total', fontsize=12)\n",
        "plt.title('Distribution of Target in different years', fontsize=15)\n",
        "plt.show()"
      ],
      "execution_count": null,
      "outputs": [
        {
          "output_type": "display_data",
          "data": {
            "text/plain": [
              "<Figure size 1080x576 with 0 Axes>"
            ]
          },
          "metadata": {
            "tags": []
          }
        },
        {
          "output_type": "display_data",
          "data": {
            "image/png": "[encoded data removed]",
            "text/plain": [
              "<Figure size 402.375x360 with 1 Axes>"
            ]
          },
          "metadata": {
            "tags": [],
            "needs_background": "light"
          }
        }
      ]
    },
    {
      "cell_type": "markdown",
      "metadata": {
        "id": "CIhct-YJMjJO"
      },
      "source": [
        "### Target rate by states and years"
      ]
    },
    {
      "cell_type": "markdown",
      "metadata": {
        "id": "AH4eJAcaMqGK"
      },
      "source": [
        "In the notice by states' target rate changed in year 2019 to year 2020, all the states have not much changed on target rate from two years except Connecticut. Connecticut in year 2019 has target rate = 0.3623, which is extremely high. and in year 2020, Connecticut's target rate is dropped to 0.1099. The huge difference on target rate in Connecticut between two years need more examination and investigations from data collection side. "
      ]
    },
    {
      "cell_type": "code",
      "metadata": {
        "colab": {
          "base_uri": "https://localhost:8080/",
          "height": 438
        },
        "id": "GJCFaPV_KCEP",
        "outputId": "3415eeab-72ca-4247-962e-55fa2fecaaae"
      },
      "source": [
        "pd.pivot_table(data=dd_sample, index=['year', 'state'], values='target', aggfunc=np.mean)"
      ],
      "execution_count": null,
      "outputs": [
        {
          "output_type": "execute_result",
          "data": {
            "text/html": [
              "<div>\n",
              "<style scoped>\n",
              "    .dataframe tbody tr th:only-of-type {\n",
              "        vertical-align: middle;\n",
              "    }\n",
              "\n",
              "    .dataframe tbody tr th {\n",
              "        vertical-align: top;\n",
              "    }\n",
              "\n",
              "    .dataframe thead th {\n",
              "        text-align: right;\n",
              "    }\n",
              "</style>\n",
              "<table border=\"1\" class=\"dataframe\">\n",
              "  <thead>\n",
              "    <tr style=\"text-align: right;\">\n",
              "      <th></th>\n",
              "      <th></th>\n",
              "      <th>target</th>\n",
              "    </tr>\n",
              "    <tr>\n",
              "      <th>year</th>\n",
              "      <th>state</th>\n",
              "      <th></th>\n",
              "    </tr>\n",
              "  </thead>\n",
              "  <tbody>\n",
              "    <tr>\n",
              "      <th rowspan=\"6\" valign=\"top\">2019</th>\n",
              "      <th>CT</th>\n",
              "      <td>0.362303</td>\n",
              "    </tr>\n",
              "    <tr>\n",
              "      <th>MA</th>\n",
              "      <td>0.053584</td>\n",
              "    </tr>\n",
              "    <tr>\n",
              "      <th>NH</th>\n",
              "      <td>0.032258</td>\n",
              "    </tr>\n",
              "    <tr>\n",
              "      <th>NJ</th>\n",
              "      <td>0.129444</td>\n",
              "    </tr>\n",
              "    <tr>\n",
              "      <th>NY</th>\n",
              "      <td>0.038097</td>\n",
              "    </tr>\n",
              "    <tr>\n",
              "      <th>PA</th>\n",
              "      <td>0.053423</td>\n",
              "    </tr>\n",
              "    <tr>\n",
              "      <th rowspan=\"6\" valign=\"top\">2020</th>\n",
              "      <th>CT</th>\n",
              "      <td>0.109916</td>\n",
              "    </tr>\n",
              "    <tr>\n",
              "      <th>MA</th>\n",
              "      <td>0.087117</td>\n",
              "    </tr>\n",
              "    <tr>\n",
              "      <th>NH</th>\n",
              "      <td>0.039592</td>\n",
              "    </tr>\n",
              "    <tr>\n",
              "      <th>NJ</th>\n",
              "      <td>0.156380</td>\n",
              "    </tr>\n",
              "    <tr>\n",
              "      <th>NY</th>\n",
              "      <td>0.042777</td>\n",
              "    </tr>\n",
              "    <tr>\n",
              "      <th>PA</th>\n",
              "      <td>0.057639</td>\n",
              "    </tr>\n",
              "  </tbody>\n",
              "</table>\n",
              "</div>"
            ],
            "text/plain": [
              "              target\n",
              "year state          \n",
              "2019 CT     0.362303\n",
              "     MA     0.053584\n",
              "     NH     0.032258\n",
              "     NJ     0.129444\n",
              "     NY     0.038097\n",
              "     PA     0.053423\n",
              "2020 CT     0.109916\n",
              "     MA     0.087117\n",
              "     NH     0.039592\n",
              "     NJ     0.156380\n",
              "     NY     0.042777\n",
              "     PA     0.057639"
            ]
          },
          "metadata": {
            "tags": []
          },
          "execution_count": 17
        }
      ]
    },
    {
      "cell_type": "code",
      "metadata": {
        "colab": {
          "base_uri": "https://localhost:8080/",
          "height": 415
        },
        "id": "GG_473rZ2wwZ",
        "outputId": "e9bfc980-3a22-45b3-9da4-748edd2478b8"
      },
      "source": [
        "plt.figure(figsize=(15, 10))\n",
        "a = sns.displot(x=\"state\", hue=\"target\", col='year', stat=\"density\", data=dd_sample)\n",
        "a.set_axis_labels( \"state\" , \"Percentage of total\" ) \n",
        "plt.suptitle('Distribution of Target in different states for different year', fontsize=15 , y=1.05)\n",
        "\n",
        "plt.show()"
      ],
      "execution_count": null,
      "outputs": [
        {
          "output_type": "display_data",
          "data": {
            "text/plain": [
              "<Figure size 1080x720 with 0 Axes>"
            ]
          },
          "metadata": {
            "tags": []
          }
        },
        {
          "output_type": "display_data",
          "data": {
            "image/png": "[encoded data removed]",
            "text/plain": [
              "<Figure size 762.375x360 with 2 Axes>"
            ]
          },
          "metadata": {
            "tags": [],
            "needs_background": "light"
          }
        }
      ]
    },
    {
      "cell_type": "code",
      "metadata": {
        "id": "kKFg353c9S39",
        "colab": {
          "base_uri": "https://localhost:8080/",
          "height": 452
        },
        "outputId": "848a0029-34d8-4dfd-dcfb-1742adfa9ce0"
      },
      "source": [
        "pd.pivot_table(data=dd_sample, index=['state','year'], values='target', aggfunc=np.mean)"
      ],
      "execution_count": null,
      "outputs": [
        {
          "output_type": "execute_result",
          "data": {
            "text/html": [
              "<div>\n",
              "<style scoped>\n",
              "    .dataframe tbody tr th:only-of-type {\n",
              "        vertical-align: middle;\n",
              "    }\n",
              "\n",
              "    .dataframe tbody tr th {\n",
              "        vertical-align: top;\n",
              "    }\n",
              "\n",
              "    .dataframe thead th {\n",
              "        text-align: right;\n",
              "    }\n",
              "</style>\n",
              "<table border=\"1\" class=\"dataframe\">\n",
              "  <thead>\n",
              "    <tr style=\"text-align: right;\">\n",
              "      <th></th>\n",
              "      <th></th>\n",
              "      <th>target</th>\n",
              "    </tr>\n",
              "    <tr>\n",
              "      <th>state</th>\n",
              "      <th>year</th>\n",
              "      <th></th>\n",
              "    </tr>\n",
              "  </thead>\n",
              "  <tbody>\n",
              "    <tr>\n",
              "      <th rowspan=\"2\" valign=\"top\">CT</th>\n",
              "      <th>2019</th>\n",
              "      <td>0.362303</td>\n",
              "    </tr>\n",
              "    <tr>\n",
              "      <th>2020</th>\n",
              "      <td>0.109916</td>\n",
              "    </tr>\n",
              "    <tr>\n",
              "      <th rowspan=\"2\" valign=\"top\">MA</th>\n",
              "      <th>2019</th>\n",
              "      <td>0.053584</td>\n",
              "    </tr>\n",
              "    <tr>\n",
              "      <th>2020</th>\n",
              "      <td>0.087117</td>\n",
              "    </tr>\n",
              "    <tr>\n",
              "      <th rowspan=\"2\" valign=\"top\">NH</th>\n",
              "      <th>2019</th>\n",
              "      <td>0.032258</td>\n",
              "    </tr>\n",
              "    <tr>\n",
              "      <th>2020</th>\n",
              "      <td>0.039592</td>\n",
              "    </tr>\n",
              "    <tr>\n",
              "      <th rowspan=\"2\" valign=\"top\">NJ</th>\n",
              "      <th>2019</th>\n",
              "      <td>0.129444</td>\n",
              "    </tr>\n",
              "    <tr>\n",
              "      <th>2020</th>\n",
              "      <td>0.156380</td>\n",
              "    </tr>\n",
              "    <tr>\n",
              "      <th rowspan=\"2\" valign=\"top\">NY</th>\n",
              "      <th>2019</th>\n",
              "      <td>0.038097</td>\n",
              "    </tr>\n",
              "    <tr>\n",
              "      <th>2020</th>\n",
              "      <td>0.042777</td>\n",
              "    </tr>\n",
              "    <tr>\n",
              "      <th rowspan=\"2\" valign=\"top\">PA</th>\n",
              "      <th>2019</th>\n",
              "      <td>0.053423</td>\n",
              "    </tr>\n",
              "    <tr>\n",
              "      <th>2020</th>\n",
              "      <td>0.057639</td>\n",
              "    </tr>\n",
              "  </tbody>\n",
              "</table>\n",
              "</div>"
            ],
            "text/plain": [
              "              target\n",
              "state year          \n",
              "CT    2019  0.362303\n",
              "      2020  0.109916\n",
              "MA    2019  0.053584\n",
              "      2020  0.087117\n",
              "NH    2019  0.032258\n",
              "      2020  0.039592\n",
              "NJ    2019  0.129444\n",
              "      2020  0.156380\n",
              "NY    2019  0.038097\n",
              "      2020  0.042777\n",
              "PA    2019  0.053423\n",
              "      2020  0.057639"
            ]
          },
          "metadata": {
            "tags": []
          },
          "execution_count": 20
        }
      ]
    },
    {
      "cell_type": "code",
      "metadata": {
        "colab": {
          "base_uri": "https://localhost:8080/",
          "height": 364
        },
        "id": "e_tCOG8Y2wyt",
        "outputId": "2f41ca01-5e57-475e-aae4-ed19d1ad735f"
      },
      "source": [
        "plt.figure(figsize=(15, 8))\n",
        "a = sns.displot(x=\"year\", hue=\"target\", col='state', stat=\"density\", data=dd_sample)\n",
        "a.set_axis_labels( \"year\" , \"Percentage of total\" ) \n",
        "\n",
        "plt.suptitle('Distribution of Target in different year for different states', fontsize=20, y=1.05)\n",
        "plt.show()"
      ],
      "execution_count": null,
      "outputs": [
        {
          "output_type": "display_data",
          "data": {
            "text/plain": [
              "<Figure size 1080x576 with 0 Axes>"
            ]
          },
          "metadata": {
            "tags": []
          }
        },
        {
          "output_type": "display_data",
          "data": {
            "image/png": "[encoded data removed]",
            "text/plain": [
              "<Figure size 2202.38x360 with 6 Axes>"
            ]
          },
          "metadata": {
            "tags": [],
            "needs_background": "light"
          }
        }
      ]
    },
    {
      "cell_type": "markdown",
      "metadata": {
        "id": "GkNsdRHjRozc"
      },
      "source": [
        "In 2019 Conneticut has a high No-hit ratio, while it went down significantly in 2020. \n",
        "\n",
        "Hypothesis: Are there an changes in No-hit relevant to business growth or changes from the credit bureau side?"
      ]
    },
    {
      "cell_type": "code",
      "metadata": {
        "id": "LaLumPeM2w4T",
        "colab": {
          "base_uri": "https://localhost:8080/",
          "height": 438
        },
        "outputId": "c582471a-4fc4-4cc6-94a1-f300aa42187f"
      },
      "source": [
        "pd.pivot_table(data=dd_sample, index=['state','year'], values='target', aggfunc=np.mean)"
      ],
      "execution_count": null,
      "outputs": [
        {
          "output_type": "execute_result",
          "data": {
            "text/html": [
              "<div>\n",
              "<style scoped>\n",
              "    .dataframe tbody tr th:only-of-type {\n",
              "        vertical-align: middle;\n",
              "    }\n",
              "\n",
              "    .dataframe tbody tr th {\n",
              "        vertical-align: top;\n",
              "    }\n",
              "\n",
              "    .dataframe thead th {\n",
              "        text-align: right;\n",
              "    }\n",
              "</style>\n",
              "<table border=\"1\" class=\"dataframe\">\n",
              "  <thead>\n",
              "    <tr style=\"text-align: right;\">\n",
              "      <th></th>\n",
              "      <th></th>\n",
              "      <th>target</th>\n",
              "    </tr>\n",
              "    <tr>\n",
              "      <th>state</th>\n",
              "      <th>year</th>\n",
              "      <th></th>\n",
              "    </tr>\n",
              "  </thead>\n",
              "  <tbody>\n",
              "    <tr>\n",
              "      <th rowspan=\"2\" valign=\"top\">CT</th>\n",
              "      <th>2019</th>\n",
              "      <td>0.362303</td>\n",
              "    </tr>\n",
              "    <tr>\n",
              "      <th>2020</th>\n",
              "      <td>0.109916</td>\n",
              "    </tr>\n",
              "    <tr>\n",
              "      <th rowspan=\"2\" valign=\"top\">MA</th>\n",
              "      <th>2019</th>\n",
              "      <td>0.053584</td>\n",
              "    </tr>\n",
              "    <tr>\n",
              "      <th>2020</th>\n",
              "      <td>0.087117</td>\n",
              "    </tr>\n",
              "    <tr>\n",
              "      <th rowspan=\"2\" valign=\"top\">NH</th>\n",
              "      <th>2019</th>\n",
              "      <td>0.032258</td>\n",
              "    </tr>\n",
              "    <tr>\n",
              "      <th>2020</th>\n",
              "      <td>0.039592</td>\n",
              "    </tr>\n",
              "    <tr>\n",
              "      <th rowspan=\"2\" valign=\"top\">NJ</th>\n",
              "      <th>2019</th>\n",
              "      <td>0.129444</td>\n",
              "    </tr>\n",
              "    <tr>\n",
              "      <th>2020</th>\n",
              "      <td>0.156380</td>\n",
              "    </tr>\n",
              "    <tr>\n",
              "      <th rowspan=\"2\" valign=\"top\">NY</th>\n",
              "      <th>2019</th>\n",
              "      <td>0.038097</td>\n",
              "    </tr>\n",
              "    <tr>\n",
              "      <th>2020</th>\n",
              "      <td>0.042777</td>\n",
              "    </tr>\n",
              "    <tr>\n",
              "      <th rowspan=\"2\" valign=\"top\">PA</th>\n",
              "      <th>2019</th>\n",
              "      <td>0.053423</td>\n",
              "    </tr>\n",
              "    <tr>\n",
              "      <th>2020</th>\n",
              "      <td>0.057639</td>\n",
              "    </tr>\n",
              "  </tbody>\n",
              "</table>\n",
              "</div>"
            ],
            "text/plain": [
              "              target\n",
              "state year          \n",
              "CT    2019  0.362303\n",
              "      2020  0.109916\n",
              "MA    2019  0.053584\n",
              "      2020  0.087117\n",
              "NH    2019  0.032258\n",
              "      2020  0.039592\n",
              "NJ    2019  0.129444\n",
              "      2020  0.156380\n",
              "NY    2019  0.038097\n",
              "      2020  0.042777\n",
              "PA    2019  0.053423\n",
              "      2020  0.057639"
            ]
          },
          "metadata": {
            "tags": []
          },
          "execution_count": 45
        }
      ]
    },
    {
      "cell_type": "markdown",
      "metadata": {
        "id": "dhNhqs_DNoS9"
      },
      "source": [
        "# Test-Train split"
      ]
    },
    {
      "cell_type": "markdown",
      "metadata": {
        "id": "qJpBz1keNkTd"
      },
      "source": [
        "We set the data in Year 2020 as training & validation data, and the data in Year 2019 as testing data because:\n",
        "- Year 2020 is more recent to current time( Year 2021) when we will apply the model, while Year 2019 may test the robustness of the model\n",
        "- Year 2020 is more stable in business operations and has a larger sample size\n",
        "\n",
        "\n"
      ]
    },
    {
      "cell_type": "code",
      "metadata": {
        "colab": {
          "base_uri": "https://localhost:8080/"
        },
        "id": "JVhiBoLQYn7B",
        "outputId": "de2a2e90-345f-42e5-fc3a-2d3e0c3f4f03"
      },
      "source": [
        "dd_sample.info()"
      ],
      "execution_count": null,
      "outputs": [
        {
          "output_type": "stream",
          "text": [
            "<class 'pandas.core.frame.DataFrame'>\n",
            "RangeIndex: 584590 entries, 0 to 584589\n",
            "Data columns (total 6 columns):\n",
            " #   Column  Non-Null Count   Dtype   \n",
            "---  ------  --------------   -----   \n",
            " 0   qpid    584590 non-null  int64   \n",
            " 1   state   584590 non-null  object  \n",
            " 2   year    584590 non-null  category\n",
            " 3   zip5    583771 non-null  float64 \n",
            " 4   zip4    575856 non-null  float64 \n",
            " 5   target  584590 non-null  int64   \n",
            "dtypes: category(1), float64(2), int64(2), object(1)\n",
            "memory usage: 22.9+ MB\n"
          ],
          "name": "stdout"
        }
      ]
    },
    {
      "cell_type": "code",
      "metadata": {
        "id": "xGobPc2QOKhP"
      },
      "source": [
        "X = dd_sample[dd_sample['year']=='2020'].drop(\"target\", axis = 1)"
      ],
      "execution_count": null,
      "outputs": []
    },
    {
      "cell_type": "code",
      "metadata": {
        "colab": {
          "base_uri": "https://localhost:8080/"
        },
        "id": "TCX55-zUZDs-",
        "outputId": "d3b12b2a-1e9f-47df-deb7-5e1a86ea5f4b"
      },
      "source": [
        "X.shape"
      ],
      "execution_count": null,
      "outputs": [
        {
          "output_type": "execute_result",
          "data": {
            "text/plain": [
              "(416283, 5)"
            ]
          },
          "metadata": {
            "tags": []
          },
          "execution_count": 48
        }
      ]
    },
    {
      "cell_type": "code",
      "metadata": {
        "colab": {
          "base_uri": "https://localhost:8080/"
        },
        "id": "68I_bShWPrbh",
        "outputId": "a1da9266-f13f-46ea-83e4-3c17e5f30be8"
      },
      "source": [
        "type(X)"
      ],
      "execution_count": null,
      "outputs": [
        {
          "output_type": "execute_result",
          "data": {
            "text/plain": [
              "pandas.core.frame.DataFrame"
            ]
          },
          "metadata": {
            "tags": []
          },
          "execution_count": 49
        }
      ]
    },
    {
      "cell_type": "code",
      "metadata": {
        "id": "A2la3pg-OKjg"
      },
      "source": [
        "y = dd_sample[dd_sample['year']=='2020'][\"target\"]"
      ],
      "execution_count": null,
      "outputs": []
    },
    {
      "cell_type": "code",
      "metadata": {
        "id": "s0FrwwGtZc0_"
      },
      "source": [
        "c = dd_sample[dd_sample['year']=='2020'][[\"state\",'target']]"
      ],
      "execution_count": null,
      "outputs": []
    },
    {
      "cell_type": "code",
      "metadata": {
        "id": "w6lj6IYLIK-G"
      },
      "source": [
        ""
      ],
      "execution_count": null,
      "outputs": []
    },
    {
      "cell_type": "code",
      "metadata": {
        "id": "o9ePv0CENm84"
      },
      "source": [
        "from sklearn.model_selection import train_test_split\n",
        "Xtrain1, Xtest2020, ytrain1, ytest2020 = train_test_split(X, y, test_size=0.2, random_state=833, stratify = c)"
      ],
      "execution_count": null,
      "outputs": []
    },
    {
      "cell_type": "code",
      "metadata": {
        "id": "ZLdeD6pyOKnx"
      },
      "source": [
        "Xtest2019 = dd_sample[dd_sample['year']=='2019'].drop(\"target\", axis = 1)"
      ],
      "execution_count": null,
      "outputs": []
    },
    {
      "cell_type": "code",
      "metadata": {
        "id": "fVWnQaKBPvh6"
      },
      "source": [
        "ytest2019 = dd_sample[dd_sample['year']=='2019'][\"target\"]"
      ],
      "execution_count": null,
      "outputs": []
    },
    {
      "cell_type": "code",
      "metadata": {
        "id": "lLjMBhaNbO1X"
      },
      "source": [
        ""
      ],
      "execution_count": null,
      "outputs": []
    },
    {
      "cell_type": "code",
      "metadata": {
        "colab": {
          "base_uri": "https://localhost:8080/",
          "height": 410
        },
        "id": "flIoxHB-ajhT",
        "outputId": "12c056e3-7f31-422f-f334-155838d12785"
      },
      "source": [
        "plt.figure(figsize=(15, 8))\n",
        "sns.displot(x = \"state\", stat=\"density\", data = Xtrain1)\n",
        "plt.xlabel('State', fontsize=12)\n",
        "plt.ylabel('Percentage of total', fontsize=10)\n",
        "plt.title('Distribution of Target in different states(2020train)', fontsize=20)\n",
        "plt.show()"
      ],
      "execution_count": null,
      "outputs": [
        {
          "output_type": "display_data",
          "data": {
            "text/plain": [
              "<Figure size 1080x576 with 0 Axes>"
            ]
          },
          "metadata": {
            "tags": []
          }
        },
        {
          "output_type": "display_data",
          "data": {
            "image/png": "[encoded data removed]",
            "text/plain": [
              "<Figure size 360x360 with 1 Axes>"
            ]
          },
          "metadata": {
            "tags": [],
            "needs_background": "light"
          }
        }
      ]
    },
    {
      "cell_type": "code",
      "metadata": {
        "colab": {
          "base_uri": "https://localhost:8080/",
          "height": 410
        },
        "id": "KTxnI1IWajkF",
        "outputId": "3f54e173-4f4a-4ef8-b58c-f3c35c94cd4c"
      },
      "source": [
        "plt.figure(figsize=(15, 8))\n",
        "sns.displot(x = \"state\", stat=\"density\", data = Xtest2020)\n",
        "plt.xlabel('Year', fontsize=12)\n",
        "plt.ylabel('Percentage of total', fontsize=10)\n",
        "plt.title('Distribution of Target in different states(2020validation)', fontsize=20)\n",
        "plt.show()"
      ],
      "execution_count": null,
      "outputs": [
        {
          "output_type": "display_data",
          "data": {
            "text/plain": [
              "<Figure size 1080x576 with 0 Axes>"
            ]
          },
          "metadata": {
            "tags": []
          }
        },
        {
          "output_type": "display_data",
          "data": {
            "image/png": "[encoded data removed]",
            "text/plain": [
              "<Figure size 360x360 with 1 Axes>"
            ]
          },
          "metadata": {
            "tags": [],
            "needs_background": "light"
          }
        }
      ]
    },
    {
      "cell_type": "markdown",
      "metadata": {
        "id": "K0mB2q4iNzav"
      },
      "source": [
        "We stratified the data using target(Hit or No-Hit) & state variables. We have checked that training and validation have the same target & state distribution as the original Year 2020 data."
      ]
    },
    {
      "cell_type": "code",
      "metadata": {
        "colab": {
          "base_uri": "https://localhost:8080/"
        },
        "id": "euATt7iIajnN",
        "outputId": "0c147146-20a9-440f-aae8-8cd313954e1e"
      },
      "source": [
        "ytrain1.value_counts(normalize=True)"
      ],
      "execution_count": null,
      "outputs": [
        {
          "output_type": "execute_result",
          "data": {
            "text/plain": [
              "0    0.893864\n",
              "1    0.106136\n",
              "Name: target, dtype: float64"
            ]
          },
          "metadata": {
            "tags": []
          },
          "execution_count": 34
        }
      ]
    },
    {
      "cell_type": "code",
      "metadata": {
        "colab": {
          "base_uri": "https://localhost:8080/"
        },
        "id": "RooDa6hCajpA",
        "outputId": "b315214f-2beb-4f4f-8343-3d96c7e31b6e"
      },
      "source": [
        "ytest2020.value_counts(normalize=True)"
      ],
      "execution_count": null,
      "outputs": [
        {
          "output_type": "execute_result",
          "data": {
            "text/plain": [
              "0    0.893871\n",
              "1    0.106129\n",
              "Name: target, dtype: float64"
            ]
          },
          "metadata": {
            "tags": []
          },
          "execution_count": 35
        }
      ]
    },
    {
      "cell_type": "code",
      "metadata": {
        "colab": {
          "base_uri": "https://localhost:8080/"
        },
        "id": "WxN4X3DtcZt7",
        "outputId": "bc832873-ee78-40e0-deac-e93d0b8fac62"
      },
      "source": [
        "Xtrain1.state.value_counts(normalize=True)"
      ],
      "execution_count": null,
      "outputs": [
        {
          "output_type": "execute_result",
          "data": {
            "text/plain": [
              "NJ    0.414757\n",
              "MA    0.207194\n",
              "NY    0.161897\n",
              "PA    0.116405\n",
              "CT    0.080207\n",
              "NH    0.019539\n",
              "Name: state, dtype: float64"
            ]
          },
          "metadata": {
            "tags": []
          },
          "execution_count": 36
        }
      ]
    },
    {
      "cell_type": "code",
      "metadata": {
        "colab": {
          "base_uri": "https://localhost:8080/"
        },
        "id": "YnDhllzqcZwu",
        "outputId": "fe7a6749-46a2-4fbc-c6e0-640089ca4f5c"
      },
      "source": [
        "Xtest2020.state.value_counts(normalize=True)"
      ],
      "execution_count": null,
      "outputs": [
        {
          "output_type": "execute_result",
          "data": {
            "text/plain": [
              "NJ    0.414752\n",
              "MA    0.207202\n",
              "NY    0.161908\n",
              "PA    0.116399\n",
              "CT    0.080209\n",
              "NH    0.019530\n",
              "Name: state, dtype: float64"
            ]
          },
          "metadata": {
            "tags": []
          },
          "execution_count": 37
        }
      ]
    },
    {
      "cell_type": "code",
      "metadata": {
        "id": "7Ec1SdY_cZ0Y",
        "colab": {
          "base_uri": "https://localhost:8080/"
        },
        "outputId": "2f680486-1e21-4b49-c549-68becea4a10f"
      },
      "source": [
        "Xtest2019.state.value_counts(normalize=True)"
      ],
      "execution_count": null,
      "outputs": [
        {
          "output_type": "execute_result",
          "data": {
            "text/plain": [
              "NJ    0.528724\n",
              "PA    0.272924\n",
              "MA    0.073514\n",
              "NY    0.062071\n",
              "CT    0.044163\n",
              "NH    0.018603\n",
              "Name: state, dtype: float64"
            ]
          },
          "metadata": {
            "tags": []
          },
          "execution_count": 39
        }
      ]
    },
    {
      "cell_type": "code",
      "metadata": {
        "id": "5HaAfonIcZ6o",
        "colab": {
          "base_uri": "https://localhost:8080/"
        },
        "outputId": "4e4d78b9-5245-4423-8da9-262ebebd9a32"
      },
      "source": [
        "ytest2019.value_counts(normalize=True)"
      ],
      "execution_count": null,
      "outputs": [
        {
          "output_type": "execute_result",
          "data": {
            "text/plain": [
              "0    0.894075\n",
              "1    0.105925\n",
              "Name: target, dtype: float64"
            ]
          },
          "metadata": {
            "tags": []
          },
          "execution_count": 40
        }
      ]
    }
  ]
}